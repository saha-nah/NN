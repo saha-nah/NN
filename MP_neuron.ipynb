{
  "nbformat": 4,
  "nbformat_minor": 0,
  "metadata": {
    "colab": {
      "provenance": []
    },
    "kernelspec": {
      "name": "python3",
      "display_name": "Python 3"
    },
    "language_info": {
      "name": "python"
    }
  },
  "cells": [
    {
      "cell_type": "code",
      "source": [
        "#or gate\n",
        "def mp_neuron(inputs, threshold):\n",
        "   \n",
        "    sum_inputs = sum(inputs)\n",
        "\n",
        "    return int(sum_inputs >= threshold)\n",
        "inputs = [[0,0],[0,1],[1,0],[1,1]]\n",
        "threshold = 1\n",
        "for i in inputs:\n",
        "    print(mp_neuron(i, threshold))"
      ],
      "metadata": {
        "colab": {
          "base_uri": "https://localhost:8080/"
        },
        "id": "eZuQQiO0-Tj7",
        "outputId": "b98b4467-5c29-42cf-a4d6-f6acac4e848b"
      },
      "execution_count": null,
      "outputs": [
        {
          "output_type": "stream",
          "name": "stdout",
          "text": [
            "0\n",
            "1\n",
            "1\n",
            "1\n"
          ]
        }
      ]
    },
    {
      "cell_type": "code",
      "source": [
        "#and gate\n",
        "def and_gate(inputs):\n",
        "   \n",
        "    threshold = len(inputs)\n",
        "    return mp_neuron(inputs, threshold)\n",
        "inputs = [[0,0],[0,1],[1,0],[1,1]]\n",
        "threshold = 3\n",
        "for i in inputs:\n",
        "    print(and_gate(i))\n",
        " \n"
      ],
      "metadata": {
        "colab": {
          "base_uri": "https://localhost:8080/"
        },
        "id": "ZNYAL_wjCdfB",
        "outputId": "5dcbd90f-f264-4f84-db80-cd13ec587cf8"
      },
      "execution_count": null,
      "outputs": [
        {
          "output_type": "stream",
          "name": "stdout",
          "text": [
            "0\n",
            "0\n",
            "0\n",
            "1\n"
          ]
        }
      ]
    },
    {
      "cell_type": "code",
      "source": [
        "#not gate\n",
        "def not_gate(input):\n",
        "    \n",
        "    threshold = 1\n",
        "    return mp_neuron([input], threshold) ^ 1\n",
        "inputs = [0,1]\n",
        "for i in inputs:\n",
        "    print(not_gate(i))\n"
      ],
      "metadata": {
        "colab": {
          "base_uri": "https://localhost:8080/"
        },
        "id": "BmLygVM-C9F0",
        "outputId": "5feda4ee-1cf8-41e5-94a9-c991524d8e84"
      },
      "execution_count": null,
      "outputs": [
        {
          "output_type": "stream",
          "name": "stdout",
          "text": [
            "1\n",
            "0\n"
          ]
        }
      ]
    },
    {
      "cell_type": "code",
      "source": [
        "#not gate\n",
        "import numpy as np\n",
        "x = np.array([0,1])\n",
        "y = np.array([1,0])\n",
        "theta = 1\n",
        "f = x\n",
        "y_pred = (f < theta).astype(int)\n",
        "if np.all(y == y_pred):\n",
        "  print(f'f = {f}')\n",
        "  print(f'y_pred = {y_pred}')\n",
        "  print(f'threshold = {theta}')"
      ],
      "metadata": {
        "colab": {
          "base_uri": "https://localhost:8080/"
        },
        "id": "_hmh17qTtyWY",
        "outputId": "0b52186a-5a62-44c0-ce98-d4690a4bd993"
      },
      "execution_count": null,
      "outputs": [
        {
          "output_type": "stream",
          "name": "stdout",
          "text": [
            "f = [0 1]\n",
            "y_pred = [1 0]\n",
            "threshold = 1\n"
          ]
        }
      ]
    },
    {
      "cell_type": "code",
      "source": [],
      "metadata": {
        "id": "pwZ5qcSau3x8"
      },
      "execution_count": null,
      "outputs": []
    },
    {
      "cell_type": "code",
      "source": [
        "def nor(x):\n",
        "    \n",
        "  \n",
        "    if sum(x) <= threshold:  \n",
        "        return 1  \n",
        "    else:\n",
        "        return 0 \n",
        "inputs = [[0,0],[0,1],[1,0],[1,1]]\n",
        "threshold = 0\n",
        "for i in inputs:\n",
        "    print(nor(i))\n",
        " "
      ],
      "metadata": {
        "colab": {
          "base_uri": "https://localhost:8080/"
        },
        "id": "VAprsl4qKW5l",
        "outputId": "c7df071f-3a67-4a44-ada5-f1dfeb5fc216"
      },
      "execution_count": null,
      "outputs": [
        {
          "output_type": "stream",
          "name": "stdout",
          "text": [
            "1\n",
            "0\n",
            "0\n",
            "0\n"
          ]
        }
      ]
    },
    {
      "cell_type": "code",
      "source": [
        "def mp_neuron_x1_not_x2_gate(x1, x2):\n",
        "\n",
        "    threshold = 1\n",
        "\n",
        "    if x1 == 1 and x2 == 0:\n",
        "\n",
        "        return 1\n",
        "\n",
        "    else:\n",
        "\n",
        "        return 0\n",
        "\n",
        "print(mp_neuron_x1_not_x2_gate(0,0))\n",
        "\n",
        "print(mp_neuron_x1_not_x2_gate(0,1))\n",
        "\n",
        "print(mp_neuron_x1_not_x2_gate(1,0))\n",
        "\n",
        "print(mp_neuron_x1_not_x2_gate(1,1))"
      ],
      "metadata": {
        "colab": {
          "base_uri": "https://localhost:8080/"
        },
        "id": "qaORBC6jOUxz",
        "outputId": "6c89d876-b369-4e4a-bf1b-fb1d4f92e598"
      },
      "execution_count": null,
      "outputs": [
        {
          "output_type": "stream",
          "name": "stdout",
          "text": [
            "0\n",
            "0\n",
            "1\n",
            "0\n"
          ]
        }
      ]
    },
    {
      "cell_type": "code",
      "source": [
        "#AND perceptron \n",
        "import numpy as np\n",
        "x1 = np.array([0,0,1,1])\n",
        "x2 = np.array([0,1,0,1])\n",
        "y = np.array([0,0,0,1])\n",
        "w1 = 1\n",
        "w2 = 1\n",
        "theta = 2                                                             #threshold \n",
        "f = x1*w1+x2*w2\n",
        "y_pred = (f>=theta).astype(int)\n",
        "if np.all(y == y_pred): \n",
        "  print(f'f = {f}')\n",
        "  print(f'y_pred = {y_pred}')     #correct weights and threshold\"\n",
        "  print(\"w1=\",w1,'\\n',\"w2=\",w2)\n",
        "  print(\"threshold=\",theta)\n",
        "else:\n",
        "  print(\"change the weights/threshold\")"
      ],
      "metadata": {
        "colab": {
          "base_uri": "https://localhost:8080/"
        },
        "id": "xkR41lH6u7Iw",
        "outputId": "57e1d05d-10f0-45c5-ceb8-4cb873a19467"
      },
      "execution_count": null,
      "outputs": [
        {
          "output_type": "stream",
          "name": "stdout",
          "text": [
            "f = [0 1 1 2]\n",
            "y_pred = [0 0 0 1]\n",
            "w1= 1 \n",
            " w2= 1\n",
            "threshold= 2\n"
          ]
        }
      ]
    },
    {
      "cell_type": "code",
      "source": [
        "#Or perceptron\n",
        "import numpy as np\n",
        "x1 = np.array([0,0,1,1])\n",
        "x2 = np.array([0,1,0,1])\n",
        "y = np.array([0,1,1,1])\n",
        "w1 = 1\n",
        "w2 = 1 \n",
        "theta = 1                                                         #threshold\n",
        "f = x1*w1+x2*w2\n",
        "y_pred = (f>=theta).astype(int)\n",
        "if np.all(y == y_pred):\n",
        "  print(f'f = {f}')\n",
        "  print(f'y_pred = {y_pred}')     #correct weights and threshold\"\n",
        "  print(\"w1=\",w1,'\\n',\"w2=\",w2)\n",
        "  print(\"threshold=\",theta)\n",
        "else:\n",
        "  print(\"change the weights/threshold\")"
      ],
      "metadata": {
        "colab": {
          "base_uri": "https://localhost:8080/"
        },
        "id": "bLxz8IsYvwC5",
        "outputId": "a4f76f25-c682-46a9-d611-faad9171f471"
      },
      "execution_count": null,
      "outputs": [
        {
          "output_type": "stream",
          "name": "stdout",
          "text": [
            "f = [0 1 1 2]\n",
            "y_pred = [0 1 1 1]\n",
            "w1= 1 \n",
            " w2= 1\n",
            "threshold= 1\n"
          ]
        }
      ]
    },
    {
      "cell_type": "code",
      "source": [
        "#NOR perceptron \n",
        "import numpy as np\n",
        "x1 = np.array([0,0,1,1])\n",
        "x2 = np.array([0,1,0,1])\n",
        "y = np.array([1,0,0,0])\n",
        "w1= w2 = 1\n",
        "theta = 0                                                         #threshold\n",
        "f = x1*w1+x2*w2\n",
        "y_pred = (f>=theta).astype(int)\n",
        "if np.all(y == y_pred):\n",
        "  print(f'f = {f}')\n",
        "  print(f'y_pred = {y_pred}')     #correct weights and threshold\"\n",
        "  print(\"w1=\",w1,'\\n',\"w2=\",w2)\n",
        "  print(\"threshold=\",theta)\n",
        "else:\n",
        "  print(\"change the weights/threshold\")"
      ],
      "metadata": {
        "colab": {
          "base_uri": "https://localhost:8080/"
        },
        "id": "n5jREqMIwIbV",
        "outputId": "439f3375-8798-4a41-b2ae-b56b51c06e57"
      },
      "execution_count": null,
      "outputs": [
        {
          "output_type": "stream",
          "name": "stdout",
          "text": [
            "change the weights/threshold\n"
          ]
        }
      ]
    },
    {
      "cell_type": "code",
      "source": [
        "#NAND perceptron\n",
        "import numpy as np\n",
        "x1 = np.array([0,0,1,1])\n",
        "x2 = np.array([0,1,0,1])\n",
        "y = np.array([1,1,1,0])\n",
        "w1 = w2 = 1\n",
        "theta = 1\n",
        "y_pred = (f>=theta).astype(int)\n",
        "if np.all(y == y_pred):\n",
        "  print(f'f = {f}')\n",
        "  print(f'y_pred = {y_pred}')     #correct weights and threshold\"\n",
        "  print(\"w1=\",w1,'\\n',\"w2=\",w2)\n",
        "  print(\"threshold=\",theta)\n",
        "else:\n",
        "  print(\"change the weights/threshold\")         "
      ],
      "metadata": {
        "colab": {
          "base_uri": "https://localhost:8080/"
        },
        "id": "fERjt4zNwidc",
        "outputId": "3102eff2-cc31-4494-be0a-8b00eb6ad9c1"
      },
      "execution_count": null,
      "outputs": [
        {
          "output_type": "stream",
          "name": "stdout",
          "text": [
            "change the weights/threshold\n"
          ]
        }
      ]
    }
  ]
}
